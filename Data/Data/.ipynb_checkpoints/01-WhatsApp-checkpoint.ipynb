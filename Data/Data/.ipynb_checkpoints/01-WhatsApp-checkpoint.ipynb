{
 "cells": [
  {
   "cell_type": "code",
   "execution_count": 3,
   "metadata": {},
   "outputs": [
    {
     "name": "stdout",
     "output_type": "stream",
     "text": [
      "Requirement already satisfied: pywhatkit in /home/martinlubowa/.pyenv/versions/3.10.13/lib/python3.10/site-packages (5.4)\n",
      "Requirement already satisfied: wikipedia in /home/martinlubowa/.pyenv/versions/3.10.13/lib/python3.10/site-packages (from pywhatkit) (1.4.0)\n",
      "Requirement already satisfied: requests in /home/martinlubowa/.pyenv/versions/3.10.13/lib/python3.10/site-packages (from pywhatkit) (2.31.0)\n",
      "Requirement already satisfied: Pillow in /home/martinlubowa/.pyenv/versions/3.10.13/lib/python3.10/site-packages (from pywhatkit) (10.1.0)\n",
      "Requirement already satisfied: Flask in /home/martinlubowa/.pyenv/versions/3.10.13/lib/python3.10/site-packages (from pywhatkit) (3.0.0)\n",
      "Requirement already satisfied: pyautogui in /home/martinlubowa/.pyenv/versions/3.10.13/lib/python3.10/site-packages (from pywhatkit) (0.9.54)\n",
      "Requirement already satisfied: Werkzeug>=3.0.0 in /home/martinlubowa/.pyenv/versions/3.10.13/lib/python3.10/site-packages (from Flask->pywhatkit) (3.0.1)\n",
      "Requirement already satisfied: blinker>=1.6.2 in /home/martinlubowa/.pyenv/versions/3.10.13/lib/python3.10/site-packages (from Flask->pywhatkit) (1.7.0)\n",
      "Requirement already satisfied: itsdangerous>=2.1.2 in /home/martinlubowa/.pyenv/versions/3.10.13/lib/python3.10/site-packages (from Flask->pywhatkit) (2.1.2)\n",
      "Requirement already satisfied: Jinja2>=3.1.2 in /home/martinlubowa/.pyenv/versions/3.10.13/lib/python3.10/site-packages (from Flask->pywhatkit) (3.1.2)\n",
      "Requirement already satisfied: click>=8.1.3 in /home/martinlubowa/.pyenv/versions/3.10.13/lib/python3.10/site-packages (from Flask->pywhatkit) (8.1.7)\n",
      "Requirement already satisfied: pygetwindow>=0.0.5 in /home/martinlubowa/.pyenv/versions/3.10.13/lib/python3.10/site-packages (from pyautogui->pywhatkit) (0.0.9)\n",
      "Requirement already satisfied: pyscreeze>=0.1.21 in /home/martinlubowa/.pyenv/versions/3.10.13/lib/python3.10/site-packages (from pyautogui->pywhatkit) (0.1.30)\n",
      "Requirement already satisfied: pytweening>=1.0.4 in /home/martinlubowa/.pyenv/versions/3.10.13/lib/python3.10/site-packages (from pyautogui->pywhatkit) (1.0.7)\n",
      "Requirement already satisfied: pymsgbox in /home/martinlubowa/.pyenv/versions/3.10.13/lib/python3.10/site-packages (from pyautogui->pywhatkit) (1.0.9)\n",
      "Requirement already satisfied: python3-Xlib in /home/martinlubowa/.pyenv/versions/3.10.13/lib/python3.10/site-packages (from pyautogui->pywhatkit) (0.15)\n",
      "Requirement already satisfied: mouseinfo in /home/martinlubowa/.pyenv/versions/3.10.13/lib/python3.10/site-packages (from pyautogui->pywhatkit) (0.1.3)\n",
      "Requirement already satisfied: idna<4,>=2.5 in /home/martinlubowa/.pyenv/versions/3.10.13/lib/python3.10/site-packages (from requests->pywhatkit) (3.6)\n",
      "Requirement already satisfied: charset-normalizer<4,>=2 in /home/martinlubowa/.pyenv/versions/3.10.13/lib/python3.10/site-packages (from requests->pywhatkit) (3.3.2)\n",
      "Requirement already satisfied: urllib3<3,>=1.21.1 in /home/martinlubowa/.pyenv/versions/3.10.13/lib/python3.10/site-packages (from requests->pywhatkit) (2.1.0)\n",
      "Requirement already satisfied: certifi>=2017.4.17 in /home/martinlubowa/.pyenv/versions/3.10.13/lib/python3.10/site-packages (from requests->pywhatkit) (2023.11.17)\n",
      "Requirement already satisfied: beautifulsoup4 in /home/martinlubowa/.pyenv/versions/3.10.13/lib/python3.10/site-packages (from wikipedia->pywhatkit) (4.12.2)\n",
      "Requirement already satisfied: MarkupSafe>=2.0 in /home/martinlubowa/.pyenv/versions/3.10.13/lib/python3.10/site-packages (from Jinja2>=3.1.2->Flask->pywhatkit) (2.1.3)\n",
      "Requirement already satisfied: pyrect in /home/martinlubowa/.pyenv/versions/3.10.13/lib/python3.10/site-packages (from pygetwindow>=0.0.5->pyautogui->pywhatkit) (0.2.0)\n",
      "Requirement already satisfied: soupsieve>1.2 in /home/martinlubowa/.pyenv/versions/3.10.13/lib/python3.10/site-packages (from beautifulsoup4->wikipedia->pywhatkit) (2.5)\n",
      "Requirement already satisfied: pyperclip in /home/martinlubowa/.pyenv/versions/3.10.13/lib/python3.10/site-packages (from mouseinfo->pyautogui->pywhatkit) (1.8.2)\n",
      "\n",
      "\u001b[1m[\u001b[0m\u001b[34;49mnotice\u001b[0m\u001b[1;39;49m]\u001b[0m\u001b[39;49m A new release of pip is available: \u001b[0m\u001b[31;49m23.0.1\u001b[0m\u001b[39;49m -> \u001b[0m\u001b[32;49m23.3.2\u001b[0m\n",
      "\u001b[1m[\u001b[0m\u001b[34;49mnotice\u001b[0m\u001b[1;39;49m]\u001b[0m\u001b[39;49m To update, run: \u001b[0m\u001b[32;49mpip install --upgrade pip\u001b[0m\n"
     ]
    }
   ],
   "source": [
    "!pip install pywhatkit"
   ]
  },
  {
   "cell_type": "code",
   "execution_count": 5,
   "metadata": {},
   "outputs": [
    {
     "name": "stdout",
     "output_type": "stream",
     "text": [
      "Xlib.xauth: warning, no xauthority details available\n",
      "Xlib.xauth: warning, no xauthority details available\n"
     ]
    }
   ],
   "source": [
    "import pywhatkit"
   ]
  },
  {
   "cell_type": "code",
   "execution_count": 7,
   "metadata": {},
   "outputs": [
    {
     "name": "stdout",
     "output_type": "stream",
     "text": [
      "In 13 Seconds WhatsApp will open and after 15 Seconds Message will be Delivered!\n"
     ]
    }
   ],
   "source": [
    "number = \"+256783370759\"\n",
    "message = \"Hi, I am texting for testing.\"\n",
    "#pywhatkit.sendwhatmsg(number, message, 22, 35)"
   ]
  },
  {
   "cell_type": "code",
   "execution_count": null,
   "metadata": {},
   "outputs": [
    {
     "name": "stdout",
     "output_type": "stream",
     "text": [
      "In 15 Seconds WhatsApp will open and after 5 Seconds Message will be Delivered!\n"
     ]
    }
   ],
   "source": [
    "message2 = \"This is another message for testing\"\n",
    "pywhatkit.sendwhatmsg(number, message2, 22, 38, 5, True, 3)"
   ]
  },
  {
   "cell_type": "code",
   "execution_count": 22,
   "metadata": {},
   "outputs": [],
   "source": [
    "pywhatkit.sendwhats_image(number, \"post.jpg\")"
   ]
  },
  {
   "cell_type": "code",
   "execution_count": 26,
   "metadata": {},
   "outputs": [],
   "source": [
    "pywhatkit.sendwhats_image(number, \"post.jpg\", \"Hello, here is todays post \")"
   ]
  },
  {
   "cell_type": "code",
   "execution_count": 25,
   "metadata": {},
   "outputs": [
    {
     "name": "stdout",
     "output_type": "stream",
     "text": [
      "In 18 Seconds WhatsApp will open and after 15 Seconds Message will be Delivered!\n"
     ]
    }
   ],
   "source": [
    "pywhatkit.sendwhatmsg_to_group(\"K6ZTlJHvbHCK0qf4C9CaE4\", \"hello group\", 17,22)"
   ]
  },
  {
   "cell_type": "code",
   "execution_count": 28,
   "metadata": {},
   "outputs": [],
   "source": [
    "pywhatkit.sendwhats_image(\n",
    "    \"K6ZTlJHvbHCK0qf4C9CaE4\",\n",
    "    \"post.jpg\",\n",
    "    \"Hello everyone, here is todays post \"\n",
    ")"
   ]
  },
  {
   "cell_type": "code",
   "execution_count": 31,
   "metadata": {},
   "outputs": [
    {
     "name": "stdout",
     "output_type": "stream",
     "text": [
      "Python is a high-level, general-purpose programming language. Its design philosophy emphasizes code readability with the use of significant indentation.Python is dynamically-typed and garbage-collected. It supports multiple programming paradigms, including structured (particularly procedural), object-oriented and functional programming.\n"
     ]
    }
   ],
   "source": [
    "pywhatkit.info(\"python programming\")"
   ]
  },
  {
   "cell_type": "code",
   "execution_count": 32,
   "metadata": {},
   "outputs": [
    {
     "data": {
      "text/plain": [
       "'https://www.youtube.com/watch?v=sg-Kn5n6q60'"
      ]
     },
     "execution_count": 32,
     "metadata": {},
     "output_type": "execute_result"
    }
   ],
   "source": [
    "pywhatkit.playonyt(\"AISciences\")"
   ]
  },
  {
   "cell_type": "code",
   "execution_count": 33,
   "metadata": {},
   "outputs": [],
   "source": [
    "pywhatkit.search(\"AISciences\")"
   ]
  },
  {
   "cell_type": "code",
   "execution_count": null,
   "metadata": {},
   "outputs": [],
   "source": []
  }
 ],
 "metadata": {
  "kernelspec": {
   "display_name": "aisciences",
   "language": "python",
   "name": "aisciences"
  },
  "language_info": {
   "codemirror_mode": {
    "name": "ipython",
    "version": 3
   },
   "file_extension": ".py",
   "mimetype": "text/x-python",
   "name": "python",
   "nbconvert_exporter": "python",
   "pygments_lexer": "ipython3",
   "version": "3.10.13"
  }
 },
 "nbformat": 4,
 "nbformat_minor": 4
}
